{
 "cells": [
  {
   "cell_type": "code",
   "execution_count": 2,
   "metadata": {},
   "outputs": [
    {
     "name": "stdout",
     "output_type": "stream",
     "text": [
      "Enter x: 8\n",
      "Enter y: 0\n",
      "new x =  0 new y =  8\n"
     ]
    }
   ],
   "source": [
    "#1\n",
    "#to swap 2 variables using a third variable\n",
    "x = int(input(\"Enter x: \"))\n",
    "y = int(input(\"Enter y: \"))\n",
    "z = x\n",
    "x = y\n",
    "y = z\n",
    "print(\"new x = \",x,\"new y = \",y)"
   ]
  },
  {
   "cell_type": "code",
   "execution_count": 3,
   "metadata": {},
   "outputs": [
    {
     "name": "stdout",
     "output_type": "stream",
     "text": [
      "Enter a number: 6\n",
      "n is even\n"
     ]
    }
   ],
   "source": [
    "#2\n",
    "#to check whether a given number is odd odd or even\n",
    "n = int(input(\"Enter a number: \"))\n",
    "if n % 2 == 0:\n",
    "    print(\"n is even\")\n",
    "else:\n",
    "    print(\"n is odd\")"
   ]
  },
  {
   "cell_type": "code",
   "execution_count": 4,
   "metadata": {},
   "outputs": [
    {
     "name": "stdout",
     "output_type": "stream",
     "text": [
      "Enter a number: 7\n",
      "2.6457513110645907\n"
     ]
    }
   ],
   "source": [
    "#3\n",
    "#to find the square root of a number\n",
    "import math\n",
    "n = float(input(\"Enter a number: \"))\n",
    "print(float(math.sqrt(n)))"
   ]
  },
  {
   "cell_type": "code",
   "execution_count": 8,
   "metadata": {},
   "outputs": [
    {
     "name": "stdout",
     "output_type": "stream",
     "text": [
      "Enter the value of n: 5\n",
      "1\n",
      "2\n",
      "3\n",
      "4\n",
      "5\n",
      "5\n",
      "4\n",
      "3\n",
      "2\n",
      "1\n"
     ]
    }
   ],
   "source": [
    "#4\n",
    "#to print all naural numbers from 1 to n and then in reverse order\n",
    "n = int(input(\"Enter the value of n: \"))\n",
    "i = 1\n",
    "while (i <= n):\n",
    "    print(i)\n",
    "    i += 1\n",
    "i -= 1\n",
    "while (i > 0):\n",
    "    print(i)\n",
    "    i -= 1\n",
    "    "
   ]
  },
  {
   "cell_type": "code",
   "execution_count": 13,
   "metadata": {},
   "outputs": [
    {
     "name": "stdout",
     "output_type": "stream",
     "text": [
      "Enter the radius: 1\n",
      "The volume of the sphere is: 4.1866666666666665\n"
     ]
    }
   ],
   "source": [
    "#5\n",
    "#to print the volume of the sphere\n",
    "r = float(input(\"Enter the radius: \"))\n",
    "V = 4/3*3.14*r**3\n",
    "print(\"The volume of the sphere is:\",V)\n"
   ]
  },
  {
   "cell_type": "code",
   "execution_count": 3,
   "metadata": {},
   "outputs": [
    {
     "name": "stdout",
     "output_type": "stream",
     "text": [
      "Even numbers are =>  [2, 4, 6, 8, 10, 12, 14, 16, 18, 20, 22, 24, 26, 28, 30, 32, 34, 36, 38, 40, 42, 44, 46, 48, 50, 52, 54, 56, 58, 60, 62, 64, 66, 68, 70, 72, 74, 76, 78, 80, 82, 84, 86, 88, 90, 92, 94, 96, 98, 100]\n",
      "Odd numbers are =>  [1, 3, 5, 7, 9, 11, 13, 15, 17, 19, 21, 23, 25, 27, 29, 31, 33, 35, 37, 39, 41, 43, 45, 47, 49, 51, 53, 55, 57, 59, 61, 63, 65, 67, 69, 71, 73, 75, 77, 79, 81, 83, 85, 87, 89, 91, 93, 95, 97, 99]\n"
     ]
    }
   ],
   "source": [
    "#6\n",
    "#print odd and even numbers between 1 and 100\n",
    "even = []\n",
    "odd = []\n",
    "i=1\n",
    "while (i <= 100):\n",
    "    if i % 2 == 0:\n",
    "        even.append(i)\n",
    "    else:\n",
    "        odd.append(i)\n",
    "    i += 1\n",
    "print(\"Even numbers are => \",even)\n",
    "print(\"Odd numbers are => \",odd)\n"
   ]
  },
  {
   "cell_type": "code",
   "execution_count": 10,
   "metadata": {},
   "outputs": [
    {
     "name": "stdout",
     "output_type": "stream",
     "text": [
      "Enter the value of a: 2\n",
      "Enter the value of b: -8\n",
      "Enter the value of c: -4\n",
      "Roots of equation are:  4.449489742783178 -0.4494897427831779\n"
     ]
    }
   ],
   "source": [
    "#7\n",
    "#roots of a quadratic equation using the quadratic formula\n",
    "import math\n",
    "a = float(input(\"Enter the value of a: \"))\n",
    "b = float(input(\"Enter the value of b: \"))\n",
    "c = float(input(\"Enter the value of c: \"))\n",
    "D = (b**2) - (4*a*c)\n",
    "root1 = ((-b +math.sqrt(D))/(2*a))\n",
    "root2 = ((-b -math.sqrt(D))/(2*a))\n",
    "print(\"Roots of equation are: \",root1,root2)"
   ]
  },
  {
   "cell_type": "code",
   "execution_count": 14,
   "metadata": {},
   "outputs": [
    {
     "name": "stdout",
     "output_type": "stream",
     "text": [
      "Enter the number: 0987\n",
      "No. of digits are:  4\n"
     ]
    }
   ],
   "source": [
    "#8\n",
    "#count the number of digits in a number\n",
    "n = input(\"Enter the number: \")\n",
    "l = len(n)\n",
    "print(\"No. of digits are: \",l)"
   ]
  },
  {
   "cell_type": "code",
   "execution_count": 4,
   "metadata": {},
   "outputs": [
    {
     "name": "stdout",
     "output_type": "stream",
     "text": [
      "Is a Prime no.\n"
     ]
    }
   ],
   "source": [
    "#9\n",
    "#to check if a number is prime or not\n",
    "def prime(n):\n",
    "    if n == 1:\n",
    "        print(\"The no. is 1 \")\n",
    "    for i in range(2,n):\n",
    "        if (n%i) == 0:\n",
    "            print(\"Not a Prime no.\")\n",
    "            break\n",
    "        else:\n",
    "            print(\"Is a Prime no.\")\n",
    "            break\n",
    "prime(7)\n",
    "\n"
   ]
  },
  {
   "cell_type": "code",
   "execution_count": 8,
   "metadata": {},
   "outputs": [
    {
     "name": "stdout",
     "output_type": "stream",
     "text": [
      "Enter the no.: 10\n",
      "3 + 5 + 6 + 9 + = 23\n"
     ]
    }
   ],
   "source": [
    "#10\n",
    "#sum of multiples of 3 or 5 till n\n",
    "n = int(input(\"Enter the no.: \"))\n",
    "sum = 0\n",
    "for i in range(1,n):\n",
    "    if i%3 == 0 or i%5 == 0:\n",
    "        print(i,end=' + ')\n",
    "        sum += i\n",
    "print(\"=\",sum)"
   ]
  },
  {
   "cell_type": "code",
   "execution_count": 18,
   "metadata": {},
   "outputs": [
    {
     "name": "stdout",
     "output_type": "stream",
     "text": [
      "Enter the no.: 10\n",
      "Enter one for sum and Enter two for product: 2\n",
      "The product is: 3628800\n"
     ]
    }
   ],
   "source": [
    "#11\n",
    "# \n",
    "n = int(input(\"Enter the no.: \"))\n",
    "\n",
    "option = int(input(\"Enter one for sum and Enter two for product: \"))\n",
    "\n",
    "if option == 1:\n",
    "    sum = 0\n",
    "    for i in range(n+1):\n",
    "        sum = sum+ i\n",
    "    print(\"The sum is: {}\" .format(sum))\n",
    " \n",
    "elif option == 2:\n",
    "    pro = 1\n",
    "    for i in range(1,n+1):\n",
    "        pro =pro*i\n",
    "    print(\"The product is: {}\" .format(pro))\n",
    "    \n",
    "else:\n",
    "    print(\"Wrong input\")"
   ]
  },
  {
   "cell_type": "code",
   "execution_count": 19,
   "metadata": {},
   "outputs": [
    {
     "name": "stdout",
     "output_type": "stream",
     "text": [
      "The sum is:  233168\n"
     ]
    }
   ],
   "source": [
    "#12\n",
    "#the sum of all the multiples of 3 or 5 below 1000\n",
    "n = 1000\n",
    "sum = 0\n",
    "for i in range(1,n):\n",
    "    if i % 3 == 0 or i % 5 == 0:\n",
    "        sum = sum + i\n",
    "print(\"The sum is: \", sum )"
   ]
  },
  {
   "cell_type": "code",
   "execution_count": 26,
   "metadata": {},
   "outputs": [
    {
     "name": "stdout",
     "output_type": "stream",
     "text": [
      "2002,2009,2016,2023,2037,2044,2051,2058,2072,2079,2086,2093,2107,2114,2121,2128,2142,2149,2156,2163,2177,2184,2191,2198,2212,2219,2226,2233,2247,2254,2261,2268,2282,2289,2296,2303,2317,2324,2331,2338,2352,2359,2366,2373,2387,2394,2401,2408,2422,2429,2436,2443,2457,2464,2471,2478,2492,2499,2506,2513,2527,2534,2541,2548,2562,2569,2576,2583,2597,2604,2611,2618,2632,2639,2646,2653,2667,2674,2681,2688,2702,2709,2716,2723,2737,2744,2751,2758,2772,2779,2786,2793,2807,2814,2821,2828,2842,2849,2856,2863,2877,2884,2891,2898,2912,2919,2926,2933,2947,2954,2961,2968,2982,2989,2996,3003,3017,3024,3031,3038,3052,3059,3066,3073,3087,3094,3101,3108,3122,3129,3136,3143,3157,3164,3171,3178,3192,3199,"
     ]
    }
   ],
   "source": [
    "#13\n",
    "#divisible by 7 but are not a multiple of 5, between 2000 and 3200\n",
    "def div7():\n",
    "    for i in range(1999,3200):\n",
    "        if i % 7 == 0 and i % 5 != 0:\n",
    "            print(i, end=\",\")\n",
    "div7()"
   ]
  },
  {
   "cell_type": "code",
   "execution_count": 28,
   "metadata": {},
   "outputs": [
    {
     "name": "stdout",
     "output_type": "stream",
     "text": [
      "The sum of squares is:  338350\n",
      "The square of the sum is:  114480722500\n",
      "The difference is: -114480717450\n"
     ]
    }
   ],
   "source": [
    "#14\n",
    "#difference between the sum of the squares of the first one hundred natural numbers and the square of the sum\n",
    "def square_sum():\n",
    "    sum = 0\n",
    "    sumsq = 0\n",
    "    for i in range(1,101):\n",
    "        a = i**2\n",
    "        sum = sum + a\n",
    "        sumsq = sumsq + i\n",
    "    b= sum**2\n",
    "    ans = sumsq - b\n",
    "    print(\"The sum of squares is: \" ,sum)\n",
    "    print(\"The square of the sum is: \", b)\n",
    "    print(\"The difference is:\" ,ans)\n",
    "    \n",
    "square_sum()"
   ]
  },
  {
   "cell_type": "code",
   "execution_count": null,
   "metadata": {},
   "outputs": [],
   "source": []
  },
  {
   "cell_type": "code",
   "execution_count": null,
   "metadata": {},
   "outputs": [
    {
     "name": "stdout",
     "output_type": "stream",
     "text": [
      "Enter the no.:1\n",
      "1\n",
      "Enter the no.:2\n",
      "2\n",
      "Enter the no.:3\n",
      "3\n",
      "Enter the no.:4\n",
      "4\n",
      "Enter the no.:5\n",
      "5\n",
      "Enter the no.:5\n",
      "5\n",
      "Enter the no.:6\n",
      "6\n",
      "Enter the no.:stop\n",
      "ERROR\n",
      "Total number entered7 Sum26 AVG3\n"
     ]
    }
   ],
   "source": [
    "#15\n",
    "#repeatedly reads numbers until the user enters \"stop\"\n",
    "sum=0\n",
    "count=0\n",
    "S=0\n",
    "while S!=\"STOP\":\n",
    "    try:\n",
    "        S=int(input(\"Enter the no.:\"))\n",
    "        print(S)\n",
    "        count+=1\n",
    "        sum+=S\n",
    "        Avg=sum//count\n",
    "    except:\n",
    "        print(\"ERROR\")\n",
    "        print(\"Total number entered{} Sum{} AVG{}\".format(count,sum,Avg))"
   ]
  },
  {
   "cell_type": "code",
   "execution_count": 8,
   "metadata": {},
   "outputs": [
    {
     "name": "stdout",
     "output_type": "stream",
     "text": [
      "Enter the no.: 10\n",
      "0\n",
      "1\n",
      "2\n",
      "3\n",
      "4\n",
      "5\n",
      "7\n"
     ]
    }
   ],
   "source": [
    "#16\n",
    "#prints all prime numbers till n\n",
    "n = int(input(\"Enter the no.: \"))\n",
    "\n",
    "for i in range(n):\n",
    "    no = 0\n",
    "    for j in range(2, i//2):\n",
    "        if i % j == 0:\n",
    "            no = 1\n",
    "            break\n",
    "    if no == 0:\n",
    "        print(i)"
   ]
  },
  {
   "cell_type": "code",
   "execution_count": 12,
   "metadata": {},
   "outputs": [
    {
     "name": "stdout",
     "output_type": "stream",
     "text": [
      "Enter the no. :10\n",
      "3628800\n"
     ]
    }
   ],
   "source": [
    "#17\n",
    "#factorial of a given number\n",
    "n = int(input(\"Enter the no. :\"))\n",
    "fac = 1\n",
    "\n",
    "for i in range(1,n+1):\n",
    "     fac = fac*i\n",
    "\n",
    "print(fac)"
   ]
  },
  {
   "cell_type": "code",
   "execution_count": 16,
   "metadata": {},
   "outputs": [
    {
     "name": "stdout",
     "output_type": "stream",
     "text": [
      "Enter the no. for where you want to print: 10\n",
      "1,2,3,5,8,13,21,34,55,89,"
     ]
    }
   ],
   "source": [
    "#18\n",
    "#fibonacci series till n\n",
    "a = int(input(\"Enter the no. for where you want to print: \"))\n",
    "\n",
    "n = 1\n",
    "p = 0\n",
    "\n",
    "for _ in range(a):\n",
    "    p , n = n , n+p\n",
    "    print(n, end=',')"
   ]
  },
  {
   "cell_type": "code",
   "execution_count": 26,
   "metadata": {},
   "outputs": [
    {
     "name": "stdout",
     "output_type": "stream",
     "text": [
      "Enter the first number:1\n",
      "Enter the second number:2\n",
      "LCM is: 2\n"
     ]
    }
   ],
   "source": [
    "#19\n",
    "#LCM of two numbers\n",
    "a = int(input(\"Enter the first number:\"))\n",
    "b = int(input(\"Enter the second number:\"))\n",
    "if(a < b):\n",
    "    n = b \n",
    "else:\n",
    "    n = a\n",
    "while(1):\n",
    "    if  n % a == 0 and n % b == 0:\n",
    "        print(\"LCM is:\",n)\n",
    "        break\n",
    "    n = n + 1"
   ]
  },
  {
   "cell_type": "markdown",
   "metadata": {},
   "source": []
  },
  {
   "cell_type": "code",
   "execution_count": 20,
   "metadata": {},
   "outputs": [
    {
     "name": "stdout",
     "output_type": "stream",
     "text": [
      " \n",
      "*  \n",
      "* *  \n",
      "* * *  \n",
      "* * * *  \n",
      "* * * * *  \n"
     ]
    }
   ],
   "source": [
    "#21\n",
    "#21.1\n",
    "for i in range(6):\n",
    "    for j in range(0,i):\n",
    "        print(\"*\", end = \" \")\n",
    "    print(\" \")"
   ]
  },
  {
   "cell_type": "code",
   "execution_count": 28,
   "metadata": {},
   "outputs": [
    {
     "name": "stdout",
     "output_type": "stream",
     "text": [
      "* * * * * * *   \n",
      "* * * * * *     \n",
      "* * * * *       \n",
      "* * * *         \n",
      "* * *           \n",
      "* *             \n",
      "*               \n",
      "                \n"
     ]
    }
   ],
   "source": [
    "#21.2  \n",
    "n=8\n",
    "for i in range(n):    \n",
    "    print(\"* \"*(n-i-1)+ \"  \"*(i+1) )"
   ]
  },
  {
   "cell_type": "code",
   "execution_count": 40,
   "metadata": {},
   "outputs": [
    {
     "name": "stdout",
     "output_type": "stream",
     "text": [
      " \n",
      "1  \n",
      "2 2  \n",
      "3 3 3  \n",
      "4 4 4 4  \n",
      "5 5 5 5 5  \n"
     ]
    }
   ],
   "source": [
    "#21.3\n",
    "for i in range(6):\n",
    "    for j in range(0,i):         \n",
    "        print(i, end = \" \")\n",
    "    print(\" \")"
   ]
  },
  {
   "cell_type": "code",
   "execution_count": 30,
   "metadata": {},
   "outputs": [
    {
     "name": "stdout",
     "output_type": "stream",
     "text": [
      "   * \n",
      "  * * \n",
      " * * * \n",
      "* * * * \n"
     ]
    }
   ],
   "source": [
    "#21.4\n",
    "n=4\n",
    "for i in range(n):\n",
    "    print(\" \"*(n-i-1)+ \"* \"*(i+1) )"
   ]
  },
  {
   "cell_type": "code",
   "execution_count": 38,
   "metadata": {},
   "outputs": [
    {
     "name": "stdout",
     "output_type": "stream",
     "text": [
      "\n",
      "1 \n",
      "2 3 \n",
      "4 5 6 \n",
      "7 8 9 10 \n"
     ]
    }
   ],
   "source": [
    "#21.5\n",
    "n = 1\n",
    "for i in range(5):\n",
    "    for j in range(i):\n",
    "        print(n, end =\" \")          \n",
    "        n= n+1\n",
    "    print()"
   ]
  },
  {
   "cell_type": "code",
   "execution_count": 43,
   "metadata": {},
   "outputs": [
    {
     "name": "stdout",
     "output_type": "stream",
     "text": [
      "A \n",
      "B C \n",
      "D E F \n",
      "G H I J \n",
      "K L M N O \n"
     ]
    }
   ],
   "source": [
    "#21.6\n",
    "a = ['A', 'B', 'C', 'D', 'E', 'F', 'G', 'H', 'I', 'J', 'K', 'L', 'M', 'N', 'O', 'P' ]\n",
    "n = 0\n",
    "for i in range(5):\n",
    "    for j in range(i+1):    \n",
    "        print(a[n], end = \" \")\n",
    "        n = n+1\n",
    "    print()   "
   ]
  },
  {
   "cell_type": "code",
   "execution_count": 44,
   "metadata": {},
   "outputs": [
    {
     "name": "stdout",
     "output_type": "stream",
     "text": [
      "Please enter the a number6\n",
      "1\n",
      "2\n",
      "3\n",
      "6\n"
     ]
    }
   ],
   "source": [
    "#20\n",
    "#factors of a number\n",
    "n = int(input(\"Please enter the a number\"))    \n",
    "    \n",
    "for i in range(1,n+1):\n",
    "    if n%i == 0:\n",
    "        print(i)"
   ]
  },
  {
   "cell_type": "code",
   "execution_count": 45,
   "metadata": {},
   "outputs": [
    {
     "name": "stdout",
     "output_type": "stream",
     "text": [
      "Enter the no.3\n",
      "3 + 33 + 333 + 3333 = 3702\n"
     ]
    }
   ],
   "source": [
    "#22\n",
    "n = int(input(\"Enter the no.\"))\n",
    "\n",
    "a1 = n\n",
    "a2 = n*10 + n\n",
    "a3 = n*100 + n*10 + n\n",
    "a4 = n*1000 + n*100 + n*10 + n\n",
    "\n",
    "a = a1 + a2 + a3 + a4\n",
    "\n",
    "print(\"{} + {} + {} + {} = {}\" .format(a1,a2,a3,a4,a))"
   ]
  },
  {
   "cell_type": "code",
   "execution_count": null,
   "metadata": {},
   "outputs": [],
   "source": []
  }
 ],
 "metadata": {
  "kernelspec": {
   "display_name": "Python 3",
   "language": "python",
   "name": "python3"
  },
  "language_info": {
   "codemirror_mode": {
    "name": "ipython",
    "version": 3
   },
   "file_extension": ".py",
   "mimetype": "text/x-python",
   "name": "python",
   "nbconvert_exporter": "python",
   "pygments_lexer": "ipython3",
   "version": "3.6.8"
  }
 },
 "nbformat": 4,
 "nbformat_minor": 2
}
